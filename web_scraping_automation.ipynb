{
 "cells": [
  {
   "cell_type": "code",
   "execution_count": 13,
   "id": "7bf2418c",
   "metadata": {},
   "outputs": [
    {
     "name": "stdout",
     "output_type": "stream",
     "text": [
      "\n",
      "                   Jasan Robert B. Weide ग्राफिक प्रिंटेड टी-शर्ट पुरुषों के लिए | हाफ स्लीव रेगुलर फिट टी-शर्ट\n",
      "                  \n",
      "\n",
      "                     ₹599.00\n",
      "                    \n"
     ]
    }
   ],
   "source": [
    "from bs4 import BeautifulSoup\n",
    "import requests\n",
    "import smtplib\n",
    "import time\n",
    "import datetime\n",
    "\n",
    "url=\"https://www.amazon.in/-/hi/%E0%A4%A8%E0%A4%BF%E0%A4%B0%E0%A5%8D%E0%A4%A6%E0%A5%87%E0%A4%B6%E0%A4%BF%E0%A4%A4-%E0%A4%97%E0%A5%8D%E0%A4%B0%E0%A4%BE%E0%A4%AB%E0%A4%BF%E0%A4%95-%E0%A4%AA%E0%A5%8D%E0%A4%B0%E0%A4%BF%E0%A4%82%E0%A4%9F%E0%A5%87%E0%A4%A1-%E0%A4%9F%E0%A5%80-%E0%A4%B6%E0%A4%B0%E0%A5%8D%E0%A4%9F-%E0%A4%AA%E0%A5%81%E0%A4%B0%E0%A5%81%E0%A4%B7%E0%A5%8B%E0%A4%82/dp/B09DQ12NSH/ref=sr_1_37?keywords=data%2Banalyst%2Btshirt&qid=1658399105&sr=8-37\"\n",
    "headers={\"User-Agent\": \"Mozilla/5.0 (Windows NT 10.0; Win64; x64; rv:102.0) Gecko/20100101 Firefox/102.0\", \"Accept-Encoding\":\"gzip, deflate\", \"Accept\":\"text/html,application/xhtml+xml,application/xml;q=0.9,*/*;q=0.8\", \"DNT\":\"1\",\"Connection\":\"close\", \"Upgrade-Insecure-Requests\":\"1\"}\n",
    "\n",
    "page=requests.get(url,headers=headers)\n",
    "\n",
    "soup1=BeautifulSoup(page.content,\"html.parser\")\n",
    "\n",
    "\n",
    "soup2=BeautifulSoup(soup1.prettify(),\"html.parser\")\n",
    "# print(soup2)\n",
    "\n",
    "title=soup2.find(id=\"productTitle\").get_text()\n",
    "\n",
    "price=soup2.find(\"span\",{\"class\":\"a-offscreen\"}).get_text()\n",
    "\n",
    "\n",
    "print(title)\n",
    "print(price)\n",
    "\n",
    "\n",
    "\n",
    "\n",
    "\n",
    "# soup2"
   ]
  },
  {
   "cell_type": "code",
   "execution_count": 18,
   "id": "094d9f4c",
   "metadata": {},
   "outputs": [
    {
     "name": "stdout",
     "output_type": "stream",
     "text": [
      "Jasan Robert B. Weide ग्राफिक प्रिंटेड टी-शर्ट पुरुषों के लिए | हाफ स्लीव रेगुलर फिट टी-शर्ट\n",
      "599.00\n"
     ]
    }
   ],
   "source": [
    "price1=price.strip()[1:]\n",
    "title1=title.strip()\n",
    "print(title1)\n",
    "\n",
    "print(price1)\n"
   ]
  },
  {
   "cell_type": "code",
   "execution_count": 40,
   "id": "6be2c3ee",
   "metadata": {},
   "outputs": [],
   "source": [
    "import csv\n",
    "\n",
    "header=[\"title\",\"price\",\"date\"]\n",
    "data=[title1,price1,today]"
   ]
  },
  {
   "cell_type": "code",
   "execution_count": 41,
   "id": "3da67764",
   "metadata": {},
   "outputs": [],
   "source": [
    "with open(\"amazonescraperdataset.csv\",\"w\",newline=\"\",encoding=\"UTF8\") as f:\n",
    "    writer=csv.writer(f)\n",
    "    writer.writerow(header)\n",
    "    writer.writerow(data)\n",
    "    \n",
    "    "
   ]
  },
  {
   "cell_type": "code",
   "execution_count": 42,
   "id": "4fa9e832",
   "metadata": {},
   "outputs": [
    {
     "name": "stdout",
     "output_type": "stream",
     "text": [
      "2022-07-21\n"
     ]
    }
   ],
   "source": [
    "import datetime\n",
    "today=datetime.date.today()\n",
    "print(today)"
   ]
  },
  {
   "cell_type": "code",
   "execution_count": 46,
   "id": "8766f590",
   "metadata": {},
   "outputs": [
    {
     "data": {
      "text/html": [
       "<div>\n",
       "<style scoped>\n",
       "    .dataframe tbody tr th:only-of-type {\n",
       "        vertical-align: middle;\n",
       "    }\n",
       "\n",
       "    .dataframe tbody tr th {\n",
       "        vertical-align: top;\n",
       "    }\n",
       "\n",
       "    .dataframe thead th {\n",
       "        text-align: right;\n",
       "    }\n",
       "</style>\n",
       "<table border=\"1\" class=\"dataframe\">\n",
       "  <thead>\n",
       "    <tr style=\"text-align: right;\">\n",
       "      <th></th>\n",
       "      <th>title</th>\n",
       "      <th>price</th>\n",
       "      <th>date</th>\n",
       "    </tr>\n",
       "  </thead>\n",
       "  <tbody>\n",
       "    <tr>\n",
       "      <th>0</th>\n",
       "      <td>Jasan Robert B. Weide ग्राफिक प्रिंटेड टी-शर्ट...</td>\n",
       "      <td>599.0</td>\n",
       "      <td>2022-07-21</td>\n",
       "    </tr>\n",
       "    <tr>\n",
       "      <th>1</th>\n",
       "      <td>Jasan Robert B. Weide ग्राफिक प्रिंटेड टी-शर्ट...</td>\n",
       "      <td>599.0</td>\n",
       "      <td>2022-07-21</td>\n",
       "    </tr>\n",
       "  </tbody>\n",
       "</table>\n",
       "</div>"
      ],
      "text/plain": [
       "                                               title  price        date\n",
       "0  Jasan Robert B. Weide ग्राफिक प्रिंटेड टी-शर्ट...  599.0  2022-07-21\n",
       "1  Jasan Robert B. Weide ग्राफिक प्रिंटेड टी-शर्ट...  599.0  2022-07-21"
      ]
     },
     "execution_count": 46,
     "metadata": {},
     "output_type": "execute_result"
    }
   ],
   "source": [
    "import pandas as pd\n",
    "df=pd.read_csv(r\"C:\\Users\\HP\\Untitled Folder\\amazonescraperdataset.csv\")\n",
    "df"
   ]
  },
  {
   "cell_type": "code",
   "execution_count": 45,
   "id": "ad63143e",
   "metadata": {},
   "outputs": [],
   "source": [
    "with open(\"amazonescraperdataset.csv\",\"a+\",newline=\"\",encoding=\"UTF8\") as f:\n",
    "    writer=csv.writer(f)\n",
    "    writer.writerow(data)\n",
    "# appending the data    "
   ]
  },
  {
   "cell_type": "code",
   "execution_count": 52,
   "id": "11acf8fd",
   "metadata": {},
   "outputs": [],
   "source": [
    "def check_price():\n",
    "    \n",
    "    url=\"https://www.amazon.in/-/hi/%E0%A4%A8%E0%A4%BF%E0%A4%B0%E0%A5%8D%E0%A4%A6%E0%A5%87%E0%A4%B6%E0%A4%BF%E0%A4%A4-%E0%A4%97%E0%A5%8D%E0%A4%B0%E0%A4%BE%E0%A4%AB%E0%A4%BF%E0%A4%95-%E0%A4%AA%E0%A5%8D%E0%A4%B0%E0%A4%BF%E0%A4%82%E0%A4%9F%E0%A5%87%E0%A4%A1-%E0%A4%9F%E0%A5%80-%E0%A4%B6%E0%A4%B0%E0%A5%8D%E0%A4%9F-%E0%A4%AA%E0%A5%81%E0%A4%B0%E0%A5%81%E0%A4%B7%E0%A5%8B%E0%A4%82/dp/B09DQ12NSH/ref=sr_1_37?keywords=data%2Banalyst%2Btshirt&qid=1658399105&sr=8-37\"\n",
    "    headers={\"User-Agent\": \"Mozilla/5.0 (Windows NT 10.0; Win64; x64; rv:102.0) Gecko/20100101 Firefox/102.0\", \"Accept-Encoding\":\"gzip, deflate\", \"Accept\":\"text/html,application/xhtml+xml,application/xml;q=0.9,*/*;q=0.8\", \"DNT\":\"1\",\"Connection\":\"close\", \"Upgrade-Insecure-Requests\":\"1\"}\n",
    "\n",
    "    page=requests.get(url,headers=headers)\n",
    "\n",
    "    soup1=BeautifulSoup(page.content,\"html.parser\")\n",
    "\n",
    "\n",
    "    soup2=BeautifulSoup(soup1.prettify(),\"html.parser\")\n",
    "    # print(soup2)\n",
    "\n",
    "    title=soup2.find(id=\"productTitle\").get_text()\n",
    "\n",
    "    price=soup2.find(\"span\",{\"class\":\"a-offscreen\"}).get_text()\n",
    "\n",
    "    price1=price.strip()[1:]\n",
    "    title1=title.strip()\n",
    "    \n",
    "    import csv\n",
    "\n",
    "    header=[\"title\",\"price\",\"date\"]\n",
    "    data=[title1,price1,today]\n",
    "    \n",
    "    with open(\"amazonescraperdataset.csv\",\"a+\",newline=\"\",encoding=\"UTF8\") as f:\n",
    "        writer=csv.writer(f)\n",
    "        writer.writerow(data)\n",
    "    \n",
    "    "
   ]
  },
  {
   "cell_type": "code",
   "execution_count": 58,
   "id": "64a2225e",
   "metadata": {},
   "outputs": [
    {
     "ename": "KeyboardInterrupt",
     "evalue": "",
     "output_type": "error",
     "traceback": [
      "\u001b[1;31m---------------------------------------------------------------------------\u001b[0m",
      "\u001b[1;31mKeyboardInterrupt\u001b[0m                         Traceback (most recent call last)",
      "\u001b[1;32m~\\AppData\\Local\\Temp/ipykernel_15380/2268722582.py\u001b[0m in \u001b[0;36m<module>\u001b[1;34m\u001b[0m\n\u001b[0;32m      1\u001b[0m \u001b[1;32mwhile\u001b[0m\u001b[1;33m(\u001b[0m\u001b[1;32mTrue\u001b[0m\u001b[1;33m)\u001b[0m\u001b[1;33m:\u001b[0m\u001b[1;33m\u001b[0m\u001b[1;33m\u001b[0m\u001b[0m\n\u001b[0;32m      2\u001b[0m     \u001b[0mcheck_price\u001b[0m\u001b[1;33m(\u001b[0m\u001b[1;33m)\u001b[0m\u001b[1;33m\u001b[0m\u001b[1;33m\u001b[0m\u001b[0m\n\u001b[1;32m----> 3\u001b[1;33m     \u001b[0mtime\u001b[0m\u001b[1;33m.\u001b[0m\u001b[0msleep\u001b[0m\u001b[1;33m(\u001b[0m\u001b[1;36m5\u001b[0m\u001b[1;33m)\u001b[0m\u001b[1;33m\u001b[0m\u001b[1;33m\u001b[0m\u001b[0m\n\u001b[0m",
      "\u001b[1;31mKeyboardInterrupt\u001b[0m: "
     ]
    }
   ],
   "source": [
    "while(True):\n",
    "    check_price()\n",
    "    time.sleep(84500)\n"
   ]
  },
  {
   "cell_type": "code",
   "execution_count": 59,
   "id": "2aa4fd1e",
   "metadata": {},
   "outputs": [
    {
     "data": {
      "text/html": [
       "<div>\n",
       "<style scoped>\n",
       "    .dataframe tbody tr th:only-of-type {\n",
       "        vertical-align: middle;\n",
       "    }\n",
       "\n",
       "    .dataframe tbody tr th {\n",
       "        vertical-align: top;\n",
       "    }\n",
       "\n",
       "    .dataframe thead th {\n",
       "        text-align: right;\n",
       "    }\n",
       "</style>\n",
       "<table border=\"1\" class=\"dataframe\">\n",
       "  <thead>\n",
       "    <tr style=\"text-align: right;\">\n",
       "      <th></th>\n",
       "      <th>title</th>\n",
       "      <th>price</th>\n",
       "      <th>date</th>\n",
       "    </tr>\n",
       "  </thead>\n",
       "  <tbody>\n",
       "    <tr>\n",
       "      <th>0</th>\n",
       "      <td>Jasan Robert B. Weide ग्राफिक प्रिंटेड टी-शर्ट...</td>\n",
       "      <td>599.0</td>\n",
       "      <td>2022-07-21</td>\n",
       "    </tr>\n",
       "    <tr>\n",
       "      <th>1</th>\n",
       "      <td>Jasan Robert B. Weide ग्राफिक प्रिंटेड टी-शर्ट...</td>\n",
       "      <td>599.0</td>\n",
       "      <td>2022-07-21</td>\n",
       "    </tr>\n",
       "    <tr>\n",
       "      <th>2</th>\n",
       "      <td>Jasan Robert B. Weide ग्राफिक प्रिंटेड टी-शर्ट...</td>\n",
       "      <td>599.0</td>\n",
       "      <td>2022-07-21</td>\n",
       "    </tr>\n",
       "    <tr>\n",
       "      <th>3</th>\n",
       "      <td>Jasan Robert B. Weide ग्राफिक प्रिंटेड टी-शर्ट...</td>\n",
       "      <td>599.0</td>\n",
       "      <td>2022-07-21</td>\n",
       "    </tr>\n",
       "    <tr>\n",
       "      <th>4</th>\n",
       "      <td>Jasan Robert B. Weide ग्राफिक प्रिंटेड टी-शर्ट...</td>\n",
       "      <td>599.0</td>\n",
       "      <td>2022-07-21</td>\n",
       "    </tr>\n",
       "    <tr>\n",
       "      <th>5</th>\n",
       "      <td>Jasan Robert B. Weide ग्राफिक प्रिंटेड टी-शर्ट...</td>\n",
       "      <td>599.0</td>\n",
       "      <td>2022-07-21</td>\n",
       "    </tr>\n",
       "    <tr>\n",
       "      <th>6</th>\n",
       "      <td>Jasan Robert B. Weide ग्राफिक प्रिंटेड टी-शर्ट...</td>\n",
       "      <td>599.0</td>\n",
       "      <td>2022-07-21</td>\n",
       "    </tr>\n",
       "  </tbody>\n",
       "</table>\n",
       "</div>"
      ],
      "text/plain": [
       "                                               title  price        date\n",
       "0  Jasan Robert B. Weide ग्राफिक प्रिंटेड टी-शर्ट...  599.0  2022-07-21\n",
       "1  Jasan Robert B. Weide ग्राफिक प्रिंटेड टी-शर्ट...  599.0  2022-07-21\n",
       "2  Jasan Robert B. Weide ग्राफिक प्रिंटेड टी-शर्ट...  599.0  2022-07-21\n",
       "3  Jasan Robert B. Weide ग्राफिक प्रिंटेड टी-शर्ट...  599.0  2022-07-21\n",
       "4  Jasan Robert B. Weide ग्राफिक प्रिंटेड टी-शर्ट...  599.0  2022-07-21\n",
       "5  Jasan Robert B. Weide ग्राफिक प्रिंटेड टी-शर्ट...  599.0  2022-07-21\n",
       "6  Jasan Robert B. Weide ग्राफिक प्रिंटेड टी-शर्ट...  599.0  2022-07-21"
      ]
     },
     "execution_count": 59,
     "metadata": {},
     "output_type": "execute_result"
    }
   ],
   "source": [
    "import pandas as pd\n",
    "df=pd.read_csv(r\"C:\\Users\\HP\\Untitled Folder\\amazonescraperdataset.csv\")\n",
    "df"
   ]
  },
  {
   "cell_type": "code",
   "execution_count": null,
   "id": "babe1b78",
   "metadata": {},
   "outputs": [],
   "source": []
  }
 ],
 "metadata": {
  "kernelspec": {
   "display_name": "Python 3 (ipykernel)",
   "language": "python",
   "name": "python3"
  },
  "language_info": {
   "codemirror_mode": {
    "name": "ipython",
    "version": 3
   },
   "file_extension": ".py",
   "mimetype": "text/x-python",
   "name": "python",
   "nbconvert_exporter": "python",
   "pygments_lexer": "ipython3",
   "version": "3.9.7"
  }
 },
 "nbformat": 4,
 "nbformat_minor": 5
}
